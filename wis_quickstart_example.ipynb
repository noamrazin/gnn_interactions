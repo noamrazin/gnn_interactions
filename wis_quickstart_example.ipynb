{
 "cells": [
  {
   "cell_type": "markdown",
   "metadata": {
    "tags": []
   },
   "source": [
    "## 1-Walk Index Sparsification (WIS) Example Usage"
   ]
  },
  {
   "cell_type": "code",
   "execution_count": null,
   "metadata": {},
   "outputs": [],
   "source": [
    "import torch\n",
    "import torch_geometric\n",
    "from edges_removal.walk_index_sparsification import EfficientOneWalkIndexSparsifier"
   ]
  },
  {
   "cell_type": "markdown",
   "metadata": {},
   "source": [
    "Loads the Cora dataset:"
   ]
  },
  {
   "cell_type": "code",
   "execution_count": null,
   "metadata": {},
   "outputs": [],
   "source": [
    "cora = torch_geometric.datasets.Planetoid(f'./tmp/cora/', \"cora\")\n",
    "num_vertices = cora.data.x.shape[0]\n",
    "edge_index = cora.data.edge_index\n",
    "num_undirected_edges = edge_index.shape[1] // 2"
   ]
  },
  {
   "cell_type": "markdown",
   "metadata": {},
   "source": [
    "Creates a 1-WIS sparsifier:"
   ]
  },
  {
   "cell_type": "code",
   "execution_count": null,
   "metadata": {},
   "outputs": [],
   "source": [
    "one_wis = EfficientOneWalkIndexSparsifier()"
   ]
  },
  {
   "cell_type": "markdown",
   "metadata": {},
   "source": [
    "Removes 100 undirected edges (i.e. both sides of an edge are removed) and returns:\n",
    "1. the remaining edges;\n",
    "2. the edges that were removed, in order of removal from first to last (for undirected graphs only one direction of the edge is included); and\n",
    "3. the indices of the removed edges in the original 'edge_index', also in order of removal from first to last (for undirected graphs indices of both directions are included."
   ]
  },
  {
   "cell_type": "code",
   "execution_count": null,
   "metadata": {},
   "outputs": [],
   "source": [
    "print(f\"Number directed edges before removal: {edge_index.shape[1]}\")\n",
    "remaining_edges, edges_removed, indices_of_removed_edges = one_wis.sparsify(num_vertices,\n",
    "                                                                              edge_index, \n",
    "                                                                              num_edges_to_remove=100, \n",
    "                                                                              print_progress=True, \n",
    "                                                                              undirected=True)\n",
    "print(f\"Number directed edges after removal: {remaining_edges.shape[1]}\")\n",
    "print(f\"First 5 removed edges: {edges_removed[:, :5].t().tolist()}\")"
   ]
  }
 ],
 "metadata": {
  "kernelspec": {
   "display_name": "Python 3 (ipykernel)",
   "language": "python",
   "name": "python3"
  },
  "language_info": {
   "codemirror_mode": {
    "name": "ipython",
    "version": 3
   },
   "file_extension": ".py",
   "mimetype": "text/x-python",
   "name": "python",
   "nbconvert_exporter": "python",
   "pygments_lexer": "ipython3",
   "version": "3.9.7"
  }
 },
 "nbformat": 4,
 "nbformat_minor": 4
}
